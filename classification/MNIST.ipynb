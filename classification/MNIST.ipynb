{
 "cells": [
  {
   "cell_type": "markdown",
   "metadata": {},
   "source": [
    "MNIST is the \"Hello World\" for ML\n",
    "\n",
    "Classification\n"
   ]
  },
  {
   "cell_type": "code",
   "execution_count": 1,
   "metadata": {},
   "outputs": [
    {
     "data": {
      "text/plain": [
       "dict_keys(['data', 'target', 'feature_names', 'DESCR', 'details', 'categories', 'url'])"
      ]
     },
     "execution_count": 1,
     "metadata": {},
     "output_type": "execute_result"
    }
   ],
   "source": [
    "%matplotlib inline \n",
    "# this forces images to appear on Jupyter\n",
    "\n",
    "# download MNIST through sklearn\n",
    "from sklearn.datasets import fetch_openml\n",
    "import numpy as np\n",
    "mnist = fetch_openml('mnist_784', version =1)\n",
    "mnist.keys()\n",
    "#mnist.values()"
   ]
  },
  {
   "cell_type": "code",
   "execution_count": 2,
   "metadata": {},
   "outputs": [
    {
     "name": "stdout",
     "output_type": "stream",
     "text": [
      "In X, these are 70000 images, and each represented by 784 values\n"
     ]
    }
   ],
   "source": [
    "X = mnist[\"data\"]\n",
    "y = mnist[\"target\"]\n",
    "\n",
    "#NOTE: mnist y_labels are in string format; \n",
    "# turn into numeric\n",
    "y = y.astype(np.uint8)\n",
    "\n",
    "print(\"In X, these are \" + str(X.shape[0]) + \" images, and each represented by \" \n",
    "+ str(X.shape[1]) + \" values\")"
   ]
  },
  {
   "cell_type": "code",
   "execution_count": 3,
   "metadata": {},
   "outputs": [
    {
     "name": "stdout",
     "output_type": "stream",
     "text": [
      "This image shows the figure 7\n"
     ]
    },
    {
     "data": {
      "image/png": "[encoded data removed]",
      "text/plain": [
       "<Figure size 432x288 with 1 Axes>"
      ]
     },
     "metadata": {
      "needs_background": "light"
     },
     "output_type": "display_data"
    }
   ],
   "source": [
    "# Known Fact: we know each image is 28x28 (784) in this dataset\n",
    "import numpy as np\n",
    "import matplotlib.pyplot as plt\n",
    "random_num = int(np.random.rand()*7000)\n",
    "pick_one_image = X[random_num].reshape(28,28)\n",
    "print(\"This image shows the figure \" + str(y[random_num]))\n",
    "plt.imshow(pick_one_image)\n",
    "plt.show()"
   ]
  },
  {
   "cell_type": "code",
   "execution_count": 4,
   "metadata": {},
   "outputs": [],
   "source": [
    "X_train, X_test, y_train, y_test= X[0:6000], X[6000:], y[0:6000], y[6000:]"
   ]
  },
  {
   "cell_type": "code",
   "execution_count": 5,
   "metadata": {},
   "outputs": [
    {
     "name": "stdout",
     "output_type": "stream",
     "text": [
      "y_train_8_T_or_F looks like: \n",
      "\n",
      " [[False]\n",
      " [False]\n",
      " [False]\n",
      " ...\n",
      " [ True]\n",
      " [False]\n",
      " [False]]\n"
     ]
    }
   ],
   "source": [
    "# Binary Classifier - detects '8' (a 8 or not a 8)\n",
    "\n",
    "y_train_8_T_or_F = (y_train ==8)\n",
    "y_test_8_T_or_F = (y_test == 8)\n",
    "print(\"y_train_8_T_or_F looks like: \\n\\n\", np.matrix(y_train_8_T_or_F).T)"
   ]
  },
  {
   "cell_type": "code",
   "execution_count": 6,
   "metadata": {},
   "outputs": [
    {
     "name": "stdout",
     "output_type": "stream",
     "text": [
      "Result for classifiying whether it is an 8 is:  [False]\n",
      "Result for classification of this digit is:  [7]\n"
     ]
    }
   ],
   "source": [
    "# Stochastic Gradient Descent Classifier\n",
    "from sklearn.linear_model import SGDClassifier\n",
    "sgd_clf = SGDClassifier(random_state= 821150, max_iter = 1000, tol = 0.001) # SGD algo invovles randomization\n",
    "\n",
    "# Train an OCC (one-class-classification) classifier\n",
    "OCC_clf = sgd_clf.fit(X_train, y_train_8_T_or_F)\n",
    "# Classify whether the entry we picked above is an 8 or not\n",
    "OCC_result = sgd_clf.predict([X[random_num]])\n",
    "\n",
    "# Train an multiclass classifier\n",
    "multiclass_clf = sgd_clf.fit(X_train, y_train)\n",
    "# Classify which class it is\n",
    "multiclass_result = sgd_clf.predict([X[random_num]])\n",
    "\n",
    "print(\"Result for classifiying whether it is an 8 is: \", OCC_result)\n",
    "print(\"Result for classification of this digit is: \", multiclass_result)"
   ]
  },
  {
   "cell_type": "markdown",
   "metadata": {},
   "source": [
    "NOTES:\n",
    "The above multiclass classifier is simply creating 10 OCC_clf for each of the digits;\n",
    "This method (repeating binary clf for multicalss) is called OvA (one verses Any).\n",
    "And because sklearn uses OvA, we can asks the model to spit out the score for each of \n",
    "these OCC_clf"
   ]
  },
  {
   "cell_type": "code",
   "execution_count": 12,
   "metadata": {},
   "outputs": [
    {
     "name": "stdout",
     "output_type": "stream",
     "text": [
      "[[ -862753.9639604   -475859.39907521  -310434.51416501  -385074.31876047\n",
      "   -526449.25000049  -445049.34796636 -1488624.85690974   199266.56562351\n",
      "   -236952.95866098  -211352.64023887]]\n"
     ]
    },
    {
     "data": {
      "text/plain": [
       "7"
      ]
     },
     "execution_count": 12,
     "metadata": {},
     "output_type": "execute_result"
    }
   ],
   "source": [
    "all_OCC_clf_score = sgd_clf.decision_function([X[random_num]])\n",
    "print(all_OCC_clf_score)\n",
    "#https://docs.scipy.org/doc/numpy/reference/generated/numpy.argmax.html\n",
    "np.argmax(all_OCC_clf_score)"
   ]
  },
  {
   "cell_type": "markdown",
   "metadata": {},
   "source": [
    "----------------------------------------------------------------------------------------------------"
   ]
  },
  {
   "cell_type": "code",
   "execution_count": 8,
   "metadata": {},
   "outputs": [
    {
     "data": {
      "text/plain": [
       "array([7], dtype=uint8)"
      ]
     },
     "execution_count": 8,
     "metadata": {},
     "output_type": "execute_result"
    }
   ],
   "source": [
    "# to force an one_vs_one method\n",
    "from sklearn.multiclass import OneVsOneClassifier\n",
    "ovoclf = OneVsOneClassifier(SGDClassifier(random_state = 821150,max_iter=1000, tol=0.001))\n",
    "ovoclf.fit(X_train, y_train)\n",
    "ovoclf.predict([X[random_num]])"
   ]
  },
  {
   "cell_type": "code",
   "execution_count": 9,
   "metadata": {},
   "outputs": [],
   "source": [
    "# random_forest works too:"
   ]
  },
  {
   "cell_type": "code",
   "execution_count": 10,
   "metadata": {},
   "outputs": [
    {
     "name": "stderr",
     "output_type": "stream",
     "text": [
      "C:\\Users\\joshuang\\AppData\\Local\\Continuum\\anaconda3\\lib\\site-packages\\sklearn\\ensemble\\forest.py:246: FutureWarning: The default value of n_estimators will change from 10 in version 0.20 to 100 in 0.22.\n",
      "  \"10 in version 0.20 to 100 in 0.22.\", FutureWarning)\n"
     ]
    },
    {
     "name": "stdout",
     "output_type": "stream",
     "text": [
      "[[0.]\n",
      " [0.]\n",
      " [0.]\n",
      " [0.]\n",
      " [0.]\n",
      " [0.]\n",
      " [0.]\n",
      " [1.]\n",
      " [0.]\n",
      " [0.]]\n"
     ]
    },
    {
     "data": {
      "text/plain": [
       "7"
      ]
     },
     "execution_count": 10,
     "metadata": {},
     "output_type": "execute_result"
    }
   ],
   "source": [
    "from sklearn.ensemble import RandomForestClassifier\n",
    "forest_clf = RandomForestClassifier(random_state = 42)\n",
    "forest_clf.fit(X_train, y_train)\n",
    "prob = forest_clf.predict_proba([X[random_num]]).T\n",
    "print(prob)\n",
    "np.argmax([prob])"
   ]
  },
  {
   "cell_type": "code",
   "execution_count": null,
   "metadata": {},
   "outputs": [],
   "source": []
  }
 ],
 "metadata": {
  "kernelspec": {
   "display_name": "Python 3",
   "language": "python",
   "name": "python3"
  },
  "language_info": {
   "codemirror_mode": {
    "name": "ipython",
    "version": 3
   },
   "file_extension": ".py",
   "mimetype": "text/x-python",
   "name": "python",
   "nbconvert_exporter": "python",
   "pygments_lexer": "ipython3",
   "version": "3.7.1"
  }
 },
 "nbformat": 4,
 "nbformat_minor": 2
}
