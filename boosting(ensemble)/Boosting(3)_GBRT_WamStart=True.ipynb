{
 "cells": [
  {
   "cell_type": "code",
   "execution_count": null,
   "metadata": {},
   "outputs": [],
   "source": [
    "gbrt = GradientBoostingRegressor(max_depth = , warm_start = True)\n",
    "\n",
    "min_error_required = 99999999\n",
    "\n",
    "error_count = 0\n",
    "\n",
    "\n",
    "for n_estimators in range(1, 120):\n",
    "    gbrt.n_estimators = n_estimators\n",
    "    gbrt.fit(X_train, y_train)\n",
    "    y =pred(X_val)\n",
    "    error = mean_squared_error(y_val, y_pred)\n",
    "    \n",
    "    if error < min_error_required:\n",
    "        min_val_error = val_error\n",
    "        error_count = 0\n",
    "    else:\n",
    "        error_count += 1\n",
    "        if error_count == 5:\n",
    "            break"
   ]
  },
  {
   "cell_type": "markdown",
   "metadata": {},
   "source": [
    "Because warm_start = True <br>\n",
    "sklearn keep the existing trees when the fit() is called <br>\n",
    "allowing incremental (continuous) training"
   ]
  }
 ],
 "metadata": {
  "kernelspec": {
   "display_name": "Python 3",
   "language": "python",
   "name": "python3"
  },
  "language_info": {
   "codemirror_mode": {
    "name": "ipython",
    "version": 3
   },
   "file_extension": ".py",
   "mimetype": "text/x-python",
   "name": "python",
   "nbconvert_exporter": "python",
   "pygments_lexer": "ipython3",
   "version": "3.7.1"
  }
 },
 "nbformat": 4,
 "nbformat_minor": 2
}
