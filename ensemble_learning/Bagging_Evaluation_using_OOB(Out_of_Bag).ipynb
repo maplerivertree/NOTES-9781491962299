{
 "cells": [
  {
   "cell_type": "code",
   "execution_count": 3,
   "metadata": {},
   "outputs": [],
   "source": [
    "from sklearn.ensemble import BaggingClassifier\n",
    "from sklearn.tree import DecisionTreeClassifier\n",
    "clf_bagging = BaggingClassifier(\n",
    "    DecisionTreeClassifier(), n_estimators = 500, \n",
    "    bootstrap = True, n_jobs = -1,oob_score = True)\n",
    "\n",
    "clf_bagging.fit(X, y)\n",
    "# To use OOB samples to evaulate:\n",
    "bag_clf.oob_score_\n",
    "\n",
    "# to look at the decision_function (prob) for each of the test instance\n",
    "clf_bagging.oob_decision_function_"
   ]
  },
  {
   "cell_type": "code",
   "execution_count": null,
   "metadata": {},
   "outputs": [],
   "source": []
  }
 ],
 "metadata": {
  "kernelspec": {
   "display_name": "Python 3",
   "language": "python",
   "name": "python3"
  },
  "language_info": {
   "codemirror_mode": {
    "name": "ipython",
    "version": 3
   },
   "file_extension": ".py",
   "mimetype": "text/x-python",
   "name": "python",
   "nbconvert_exporter": "python",
   "pygments_lexer": "ipython3",
   "version": "3.7.1"
  }
 },
 "nbformat": 4,
 "nbformat_minor": 2
}
