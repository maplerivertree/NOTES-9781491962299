{
 "cells": [
  {
   "cell_type": "markdown",
   "metadata": {},
   "source": [
    "Train predictor(s) on different subsets of the training set <br>\n",
    "if - with replacement, called bagging or bootstrapping <br>\n",
    "if - without replacement, called pasting <br>\n",
    "https://www.emathzone.com/tutorials/basic-statistics/sampling-with-replacement.html\n"
   ]
  },
  {
   "cell_type": "code",
   "execution_count": 4,
   "metadata": {},
   "outputs": [],
   "source": [
    "from sklearn.ensemble import BaggingClassifier\n",
    "from sklearn.tree import DecisionTreeClassifier\n",
    "\n",
    "clf_bag = BaggingClassifier(\n",
    "    DecisionTreeClassifier(), n_estimators = 200,\n",
    "    max_samples= 200, bootstrap = True, n_jobs = -1)\n",
    "\n",
    "# bootstrap = True -- does bagging\n",
    "# bootstrap = False-- does pasting\n",
    "# n_estimators = the number of trees, higher the slower and more accurate\n",
    "\n",
    "\n",
    "\n",
    "clf_bag.fit(X_train, y_train)\n",
    "\n",
    "    "
   ]
  },
  {
   "cell_type": "markdown",
   "metadata": {},
   "source": [
    "Bagging vs. pasting -- higher bias, but lower variance"
   ]
  }
 ],
 "metadata": {
  "kernelspec": {
   "display_name": "Python 3",
   "language": "python",
   "name": "python3"
  },
  "language_info": {
   "codemirror_mode": {
    "name": "ipython",
    "version": 3
   },
   "file_extension": ".py",
   "mimetype": "text/x-python",
   "name": "python",
   "nbconvert_exporter": "python",
   "pygments_lexer": "ipython3",
   "version": "3.7.1"
  }
 },
 "nbformat": 4,
 "nbformat_minor": 2
}
