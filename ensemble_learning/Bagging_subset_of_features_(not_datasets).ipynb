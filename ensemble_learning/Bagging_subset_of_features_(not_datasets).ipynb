{
 "cells": [
  {
   "cell_type": "markdown",
   "metadata": {},
   "source": [
    "for high dimensional problems (too many features) <br>\n",
    "with BaggingClasifier, if max-samples < 1.0,  <br>\n",
    "then it will take a proposion of features <br>\n",
    "the predictor(s) will be trained on random subset of features"
   ]
  },
  {
   "cell_type": "code",
   "execution_count": null,
   "metadata": {},
   "outputs": [],
   "source": [
    "clf_bagging = BaggingClassifier(\n",
    "    DecisionTreeClassifier(), n_estimator = 1000,\n",
    "    bootstrap = False, \n",
    "    max_samples = 1.0\n",
    "    bootstrap_features = True, \n",
    "    max_features = .075)\n",
    "\n",
    "# the above trains with the entire training set (max_sampels = 1)\n",
    "# but trains on subset of features, bootstrap_features = True, \n",
    "# max_features < 1.0"
   ]
  }
 ],
 "metadata": {
  "kernelspec": {
   "display_name": "Python 3",
   "language": "python",
   "name": "python3"
  },
  "language_info": {
   "codemirror_mode": {
    "name": "ipython",
    "version": 3
   },
   "file_extension": ".py",
   "mimetype": "text/x-python",
   "name": "python",
   "nbconvert_exporter": "python",
   "pygments_lexer": "ipython3",
   "version": "3.7.1"
  }
 },
 "nbformat": 4,
 "nbformat_minor": 2
}
